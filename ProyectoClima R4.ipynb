{
 "cells": [
  {
   "cell_type": "code",
   "execution_count": null,
   "metadata": {},
   "outputs": [],
   "source": [
    "import pandas as pd\n",
    "\n",
    "#import seaborn y config\n",
    "import seaborn as sns\n",
    "sns.set_style('white')\n",
    "sns.set(rc = {'figure.figsize':(15,8)})\n",
    "\n",
    "# import plotly y config\n",
    "import plotly.graph_objects as go\n",
    "import plotly.io as pio  # me permite dibujar en un notebook\n",
    "pio.renderers.default = \"notebook\"  # me permite dibujar en un notebook\n",
    "import plotly.express as px \n",
    "\n",
    "import matplotlib.pyplot as plt\n",
    "\n",
    "import numpy as np\n",
    "\n",
    "#sklearn\n",
    "from sklearn.model_selection import train_test_split  # separar en test y train\n",
    "from sklearn.tree import DecisionTreeClassifier  # arboles\n",
    "from sklearn.metrics import accuracy_score  # chequeo de resultados"
   ]
  }
 ],
 "metadata": {
  "language_info": {
   "name": "python"
  },
  "orig_nbformat": 4
 },
 "nbformat": 4,
 "nbformat_minor": 2
}
