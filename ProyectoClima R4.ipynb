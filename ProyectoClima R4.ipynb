{
 "cells": [
  {
   "cell_type": "code",
   "execution_count": null,
   "metadata": {},
   "outputs": [],
   "source": [
    "import pandas as pd\n",
    "\n",
    "#import seaborn y config\n",
    "import seaborn as sns\n",
    "sns.set_style('white')\n",
    "sns.set(rc = {'figure.figsize':(15,8)})\n",
    "\n",
    "# import plotly y config\n",
    "import plotly.graph_objects as go\n",
    "import plotly.io as pio  # me permite dibujar en un notebook\n",
    "pio.renderers.default = \"notebook\"  # me permite dibujar en un notebook\n",
    "import plotly.express as px \n",
    "\n",
    "import matplotlib.pyplot as plt\n",
    "\n",
    "import numpy as np\n",
    "\n",
    "#sklearn\n",
    "from sklearn.model_selection import train_test_split  # separar en test y train\n",
    "from sklearn.tree import DecisionTreeClassifier  # arboles\n",
    "from sklearn.metrics import accuracy_score  # chequeo de resultados"
   ]
  }
 ],
 "metadata": {
  "kernelspec": {
   "display_name": "Python 3.10.5 64-bit",
   "language": "python",
   "name": "python3"
  },
  "language_info": {
   "codemirror_mode": {
    "name": "ipython",
    "version": 3
   },
   "file_extension": ".py",
   "mimetype": "text/x-python",
   "name": "python",
   "nbconvert_exporter": "python",
   "pygments_lexer": "ipython3",
   "version": "3.10.5"
  },
  "orig_nbformat": 4,
  "vscode": {
   "interpreter": {
    "hash": "115006aa7014f6379a42fa0e6ed38f2eafb5e3ebc12c7b33abd7a547c26cc373"
   }
  }
 },
 "nbformat": 4,
 "nbformat_minor": 2
}
